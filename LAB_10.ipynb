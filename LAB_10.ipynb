{
  "nbformat": 4,
  "nbformat_minor": 0,
  "metadata": {
    "colab": {
      "provenance": []
    },
    "kernelspec": {
      "name": "python3",
      "display_name": "Python 3"
    },
    "language_info": {
      "name": "python"
    }
  },
  "cells": [
    {
      "cell_type": "code",
      "execution_count": 1,
      "metadata": {
        "colab": {
          "base_uri": "https://localhost:8080/"
        },
        "id": "tFLxUvQCKku0",
        "outputId": "9e480380-df5d-41d7-ff61-7113be6837db"
      },
      "outputs": [
        {
          "output_type": "stream",
          "name": "stdout",
          "text": [
            "              ID  Estimated_Insects_Count  Crop_Type  Soil_Type  \\\n",
            "0      F00000002                      188          1          1   \n",
            "1      F00000007                      410          1          1   \n",
            "2      F00000011                      626          1          0   \n",
            "3      F00000013                      731          1          0   \n",
            "4      F00000014                      789          0          0   \n",
            "...          ...                      ...        ...        ...   \n",
            "59305  F00155937                     3337          1          0   \n",
            "59306  F00155940                     3516          1          0   \n",
            "59307  F00155941                     3702          1          0   \n",
            "59308  F00155943                     3702          1          0   \n",
            "59309  F00155944                     3895          1          0   \n",
            "\n",
            "       Pesticide_Use_Category  Number_Doses_Week  Number_Weeks_Used  \\\n",
            "0                           1                  0                NaN   \n",
            "1                           1                  0                0.0   \n",
            "2                           1                  0                0.0   \n",
            "3                           1                  0                0.0   \n",
            "4                           1                  0                0.0   \n",
            "...                       ...                ...                ...   \n",
            "59305                       2                 20               34.0   \n",
            "59306                       2                 20               32.0   \n",
            "59307                       2                 10                NaN   \n",
            "59308                       2                 10               28.0   \n",
            "59309                       2                  5               52.0   \n",
            "\n",
            "       Number_Weeks_Quit  Season  \n",
            "0                      0       2  \n",
            "1                      0       2  \n",
            "2                      0       2  \n",
            "3                      0       2  \n",
            "4                      0       1  \n",
            "...                  ...     ...  \n",
            "59305                 12       1  \n",
            "59306                 10       2  \n",
            "59307                 48       1  \n",
            "59308                 17       2  \n",
            "59309                  7       1  \n",
            "\n",
            "[59310 rows x 9 columns]\n"
          ]
        }
      ],
      "source": [
        "import pandas as pd\n",
        "a=pd.read_csv('/content/test.csv')\n",
        "print(a)"
      ]
    },
    {
      "cell_type": "code",
      "source": [
        "import pandas as pd\n",
        "b=pd.read_csv('/content/train-1.csv')\n",
        "print(b)"
      ],
      "metadata": {
        "colab": {
          "base_uri": "https://localhost:8080/"
        },
        "id": "MV5uorVZPqtY",
        "outputId": "3c3526e5-a8d3-421a-f740-dd9af6b5833e"
      },
      "execution_count": 2,
      "outputs": [
        {
          "output_type": "stream",
          "name": "stdout",
          "text": [
            "              ID  Estimated_Insects_Count  Crop_Type  Soil_Type  \\\n",
            "0      F00000001                      188          1          0   \n",
            "1      F00000003                      209          1          0   \n",
            "2      F00000004                      257          1          0   \n",
            "3      F00000005                      257          1          1   \n",
            "4      F00000006                      342          1          0   \n",
            "...          ...                      ...        ...        ...   \n",
            "88853  F00155935                     3337          1          0   \n",
            "88854  F00155938                     3516          1          0   \n",
            "88855  F00155939                     3516          1          0   \n",
            "88856  F00155942                     3702          1          0   \n",
            "88857  F00155945                     3895          1          0   \n",
            "\n",
            "       Pesticide_Use_Category  Number_Doses_Week  Number_Weeks_Used  \\\n",
            "0                           1                  0                0.0   \n",
            "1                           1                  0                0.0   \n",
            "2                           1                  0                0.0   \n",
            "3                           1                  0                0.0   \n",
            "4                           1                  0                0.0   \n",
            "...                       ...                ...                ...   \n",
            "88853                       2                 10               12.0   \n",
            "88854                       2                 10               20.0   \n",
            "88855                       2                 15               40.0   \n",
            "88856                       2                 10               25.0   \n",
            "88857                       2                 20               37.0   \n",
            "\n",
            "       Number_Weeks_Quit  Season  Crop_Damage  \n",
            "0                      0       1            0  \n",
            "1                      0       2            1  \n",
            "2                      0       2            1  \n",
            "3                      0       2            1  \n",
            "4                      0       2            1  \n",
            "...                  ...     ...          ...  \n",
            "88853                 44       3            0  \n",
            "88854                 38       1            0  \n",
            "88855                  8       2            0  \n",
            "88856                 18       3            0  \n",
            "88857                  7       3            0  \n",
            "\n",
            "[88858 rows x 10 columns]\n"
          ]
        }
      ]
    },
    {
      "cell_type": "code",
      "source": [
        "import pandas as pd\n",
        "train_data=pd.read_csv(\"/content/train-1.csv\")\n",
        "test_data=pd.read_csv(\"/content/test.csv\")\n",
        "print(train_data)"
      ],
      "metadata": {
        "colab": {
          "base_uri": "https://localhost:8080/"
        },
        "id": "nqs26JCcRg0C",
        "outputId": "2cf03424-6ac6-4f2e-9b0e-c3bd828b13eb"
      },
      "execution_count": 3,
      "outputs": [
        {
          "output_type": "stream",
          "name": "stdout",
          "text": [
            "              ID  Estimated_Insects_Count  Crop_Type  Soil_Type  \\\n",
            "0      F00000001                      188          1          0   \n",
            "1      F00000003                      209          1          0   \n",
            "2      F00000004                      257          1          0   \n",
            "3      F00000005                      257          1          1   \n",
            "4      F00000006                      342          1          0   \n",
            "...          ...                      ...        ...        ...   \n",
            "88853  F00155935                     3337          1          0   \n",
            "88854  F00155938                     3516          1          0   \n",
            "88855  F00155939                     3516          1          0   \n",
            "88856  F00155942                     3702          1          0   \n",
            "88857  F00155945                     3895          1          0   \n",
            "\n",
            "       Pesticide_Use_Category  Number_Doses_Week  Number_Weeks_Used  \\\n",
            "0                           1                  0                0.0   \n",
            "1                           1                  0                0.0   \n",
            "2                           1                  0                0.0   \n",
            "3                           1                  0                0.0   \n",
            "4                           1                  0                0.0   \n",
            "...                       ...                ...                ...   \n",
            "88853                       2                 10               12.0   \n",
            "88854                       2                 10               20.0   \n",
            "88855                       2                 15               40.0   \n",
            "88856                       2                 10               25.0   \n",
            "88857                       2                 20               37.0   \n",
            "\n",
            "       Number_Weeks_Quit  Season  Crop_Damage  \n",
            "0                      0       1            0  \n",
            "1                      0       2            1  \n",
            "2                      0       2            1  \n",
            "3                      0       2            1  \n",
            "4                      0       2            1  \n",
            "...                  ...     ...          ...  \n",
            "88853                 44       3            0  \n",
            "88854                 38       1            0  \n",
            "88855                  8       2            0  \n",
            "88856                 18       3            0  \n",
            "88857                  7       3            0  \n",
            "\n",
            "[88858 rows x 10 columns]\n"
          ]
        }
      ]
    },
    {
      "cell_type": "code",
      "source": [
        "train_data=train_data.dropna()\n",
        "train_data=train_data.dropna(axis=1)\n",
        "print(train_data)\n",
        "#test_data=test_data.dropna()\n",
        "#test_data=test_data.dropna(axis=1)\n",
        "#print(test_data)"
      ],
      "metadata": {
        "colab": {
          "base_uri": "https://localhost:8080/"
        },
        "id": "YBJ7yo_9R5zU",
        "outputId": "68d57afa-832f-468f-e194-bbdfe724574b"
      },
      "execution_count": 4,
      "outputs": [
        {
          "output_type": "stream",
          "name": "stdout",
          "text": [
            "              ID  Estimated_Insects_Count  Crop_Type  Soil_Type  \\\n",
            "0      F00000001                      188          1          0   \n",
            "1      F00000003                      209          1          0   \n",
            "2      F00000004                      257          1          0   \n",
            "3      F00000005                      257          1          1   \n",
            "4      F00000006                      342          1          0   \n",
            "...          ...                      ...        ...        ...   \n",
            "88853  F00155935                     3337          1          0   \n",
            "88854  F00155938                     3516          1          0   \n",
            "88855  F00155939                     3516          1          0   \n",
            "88856  F00155942                     3702          1          0   \n",
            "88857  F00155945                     3895          1          0   \n",
            "\n",
            "       Pesticide_Use_Category  Number_Doses_Week  Number_Weeks_Used  \\\n",
            "0                           1                  0                0.0   \n",
            "1                           1                  0                0.0   \n",
            "2                           1                  0                0.0   \n",
            "3                           1                  0                0.0   \n",
            "4                           1                  0                0.0   \n",
            "...                       ...                ...                ...   \n",
            "88853                       2                 10               12.0   \n",
            "88854                       2                 10               20.0   \n",
            "88855                       2                 15               40.0   \n",
            "88856                       2                 10               25.0   \n",
            "88857                       2                 20               37.0   \n",
            "\n",
            "       Number_Weeks_Quit  Season  Crop_Damage  \n",
            "0                      0       1            0  \n",
            "1                      0       2            1  \n",
            "2                      0       2            1  \n",
            "3                      0       2            1  \n",
            "4                      0       2            1  \n",
            "...                  ...     ...          ...  \n",
            "88853                 44       3            0  \n",
            "88854                 38       1            0  \n",
            "88855                  8       2            0  \n",
            "88856                 18       3            0  \n",
            "88857                  7       3            0  \n",
            "\n",
            "[79858 rows x 10 columns]\n"
          ]
        }
      ]
    },
    {
      "cell_type": "code",
      "source": [
        "train_data=train_data.drop(columns=[\"ID\"],axis=1)\n",
        "#test_data=test_data.drop(columns=[\"ID\"],axis=1)\n",
        "features=train_data.drop(columns=[\"Crop_Damage\"])\n",
        "target=train_data[\"Crop_Damage\"]\n",
        "print(target)"
      ],
      "metadata": {
        "colab": {
          "base_uri": "https://localhost:8080/"
        },
        "id": "pv6YZBDsSG0T",
        "outputId": "4535d72b-6add-44ac-fc72-9d27f7e55580"
      },
      "execution_count": 5,
      "outputs": [
        {
          "output_type": "stream",
          "name": "stdout",
          "text": [
            "0        0\n",
            "1        1\n",
            "2        1\n",
            "3        1\n",
            "4        1\n",
            "        ..\n",
            "88853    0\n",
            "88854    0\n",
            "88855    0\n",
            "88856    0\n",
            "88857    0\n",
            "Name: Crop_Damage, Length: 79858, dtype: int64\n"
          ]
        }
      ]
    },
    {
      "cell_type": "code",
      "source": [
        "from sklearn.linear_model import LogisticRegression\n",
        "from sklearn.metrics import accuracy_score\n",
        "\n",
        "x_train=train_data.drop(\"Crop_Damage\",axis=1)\n",
        "y_train=train_data[\"Crop_Damage\"]\n",
        "\n",
        "#x_test=test_data.drop(\"Estimated_Insects_Count\",axis=1)\n",
        "#y_test=test_data[\"Estimated_Insects_Count\"]\n",
        "\n",
        "model=LogisticRegression()\n",
        "model.fit(x_train,y_train)\n",
        "\n",
        "y_pred=model.predict(x_train)\n",
        "accuracy=accuracy_score(y_train,y_pred)\n",
        "\n",
        "print(\"Accuracy:\",accuracy*100)"
      ],
      "metadata": {
        "colab": {
          "base_uri": "https://localhost:8080/"
        },
        "id": "3Ryg2vUNSbdL",
        "outputId": "2608fd0f-98c9-418a-b93a-5031228b7a54"
      },
      "execution_count": 6,
      "outputs": [
        {
          "output_type": "stream",
          "name": "stdout",
          "text": [
            "Accuracy: 83.51198377119387\n"
          ]
        },
        {
          "output_type": "stream",
          "name": "stderr",
          "text": [
            "/usr/local/lib/python3.10/dist-packages/sklearn/linear_model/_logistic.py:458: ConvergenceWarning: lbfgs failed to converge (status=1):\n",
            "STOP: TOTAL NO. of ITERATIONS REACHED LIMIT.\n",
            "\n",
            "Increase the number of iterations (max_iter) or scale the data as shown in:\n",
            "    https://scikit-learn.org/stable/modules/preprocessing.html\n",
            "Please also refer to the documentation for alternative solver options:\n",
            "    https://scikit-learn.org/stable/modules/linear_model.html#logistic-regression\n",
            "  n_iter_i = _check_optimize_result(\n"
          ]
        }
      ]
    },
    {
      "cell_type": "code",
      "source": [
        "from sklearn.linear_model import Perceptron\n",
        "\n",
        "# Create a Perceptron model\n",
        "model = Perceptron()\n",
        "\n",
        "# Train the Perceptron model\n",
        "model.fit(x_train, y_train)\n",
        "\n",
        "# Make predictions on the training data\n",
        "y_pred = model.predict(x_train)\n",
        "\n",
        "# Calculate accuracy\n",
        "accuracy = accuracy_score(y_train, y_pred)\n",
        "\n",
        "print(\"Perceptron Accuracy:\", accuracy * 100)\n"
      ],
      "metadata": {
        "colab": {
          "base_uri": "https://localhost:8080/"
        },
        "id": "Hsyx-KhkTr_9",
        "outputId": "0b8a8bde-cb99-482c-96ee-9fece8fca958"
      },
      "execution_count": 7,
      "outputs": [
        {
          "output_type": "stream",
          "name": "stdout",
          "text": [
            "Perceptron Accuracy: 83.58210824212978\n"
          ]
        }
      ]
    },
    {
      "cell_type": "code",
      "source": [
        "from sklearn.svm import SVC  # Import the Support Vector Classifier\n",
        "\n",
        "# Create an SVM model\n",
        "model = SVC()\n",
        "\n",
        "# Train the SVM model\n",
        "model.fit(x_train, y_train)\n",
        "\n",
        "# Make predictions on the training data\n",
        "y_pred = model.predict(x_train)\n",
        "\n",
        "# Calculate accuracy\n",
        "accuracy = accuracy_score(y_train, y_pred)\n",
        "\n",
        "print(\"SVM Accuracy:\", accuracy * 100)\n"
      ],
      "metadata": {
        "colab": {
          "base_uri": "https://localhost:8080/"
        },
        "id": "12_tHk-rT19e",
        "outputId": "cbe9d028-4903-4a1e-98f7-aad489c9f71a"
      },
      "execution_count": 8,
      "outputs": [
        {
          "output_type": "stream",
          "name": "stdout",
          "text": [
            "SVM Accuracy: 83.57709935134865\n"
          ]
        }
      ]
    },
    {
      "cell_type": "code",
      "source": [
        "from sklearn.neighbors import KNeighborsClassifier\n",
        "\n",
        "# Create a KNN model with a specified number of neighbors (e.g., 5)\n",
        "model = KNeighborsClassifier(n_neighbors=5)\n",
        "\n",
        "# Train the KNN model\n",
        "model.fit(x_train, y_train)\n",
        "\n",
        "# Make predictions on the training data\n",
        "y_pred = model.predict(x_train)\n",
        "\n",
        "# Calculate accuracy\n",
        "accuracy = accuracy_score(y_train, y_pred)\n",
        "\n",
        "print(\"KNN Accuracy:\", accuracy * 100)\n"
      ],
      "metadata": {
        "colab": {
          "base_uri": "https://localhost:8080/"
        },
        "id": "wmbW-cokVdts",
        "outputId": "20e1648f-6614-4a72-b4af-047054d62770"
      },
      "execution_count": 9,
      "outputs": [
        {
          "output_type": "stream",
          "name": "stdout",
          "text": [
            "KNN Accuracy: 86.13914698589997\n"
          ]
        }
      ]
    }
  ]
}